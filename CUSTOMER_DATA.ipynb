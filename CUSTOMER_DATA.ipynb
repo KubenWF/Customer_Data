{
 "cells": [
  {
   "cell_type": "code",
   "execution_count": 46,
   "id": "176258eb",
   "metadata": {},
   "outputs": [
    {
     "data": {
      "text/html": [
       "<div>\n",
       "<style scoped>\n",
       "    .dataframe tbody tr th:only-of-type {\n",
       "        vertical-align: middle;\n",
       "    }\n",
       "\n",
       "    .dataframe tbody tr th {\n",
       "        vertical-align: top;\n",
       "    }\n",
       "\n",
       "    .dataframe thead th {\n",
       "        text-align: right;\n",
       "    }\n",
       "</style>\n",
       "<table border=\"1\" class=\"dataframe\">\n",
       "  <thead>\n",
       "    <tr style=\"text-align: right;\">\n",
       "      <th></th>\n",
       "      <th>CustomerID</th>\n",
       "      <th>Gender</th>\n",
       "      <th>Age</th>\n",
       "      <th>Annual Income ($)</th>\n",
       "      <th>Spending Score (1-100)</th>\n",
       "      <th>Profession</th>\n",
       "      <th>Work Experience</th>\n",
       "      <th>Family Size</th>\n",
       "    </tr>\n",
       "  </thead>\n",
       "  <tbody>\n",
       "    <tr>\n",
       "      <th>0</th>\n",
       "      <td>1</td>\n",
       "      <td>Male</td>\n",
       "      <td>19</td>\n",
       "      <td>15000</td>\n",
       "      <td>39</td>\n",
       "      <td>Healthcare</td>\n",
       "      <td>1</td>\n",
       "      <td>4</td>\n",
       "    </tr>\n",
       "    <tr>\n",
       "      <th>1</th>\n",
       "      <td>2</td>\n",
       "      <td>Male</td>\n",
       "      <td>21</td>\n",
       "      <td>35000</td>\n",
       "      <td>81</td>\n",
       "      <td>Engineer</td>\n",
       "      <td>3</td>\n",
       "      <td>3</td>\n",
       "    </tr>\n",
       "    <tr>\n",
       "      <th>2</th>\n",
       "      <td>3</td>\n",
       "      <td>Female</td>\n",
       "      <td>20</td>\n",
       "      <td>86000</td>\n",
       "      <td>6</td>\n",
       "      <td>Engineer</td>\n",
       "      <td>1</td>\n",
       "      <td>1</td>\n",
       "    </tr>\n",
       "    <tr>\n",
       "      <th>3</th>\n",
       "      <td>4</td>\n",
       "      <td>Female</td>\n",
       "      <td>23</td>\n",
       "      <td>59000</td>\n",
       "      <td>77</td>\n",
       "      <td>Lawyer</td>\n",
       "      <td>0</td>\n",
       "      <td>2</td>\n",
       "    </tr>\n",
       "    <tr>\n",
       "      <th>4</th>\n",
       "      <td>5</td>\n",
       "      <td>Female</td>\n",
       "      <td>31</td>\n",
       "      <td>38000</td>\n",
       "      <td>40</td>\n",
       "      <td>Entertainment</td>\n",
       "      <td>2</td>\n",
       "      <td>6</td>\n",
       "    </tr>\n",
       "  </tbody>\n",
       "</table>\n",
       "</div>"
      ],
      "text/plain": [
       "   CustomerID  Gender  Age  Annual Income ($)  Spending Score (1-100)   \n",
       "0           1    Male   19              15000                      39  \\\n",
       "1           2    Male   21              35000                      81   \n",
       "2           3  Female   20              86000                       6   \n",
       "3           4  Female   23              59000                      77   \n",
       "4           5  Female   31              38000                      40   \n",
       "\n",
       "      Profession  Work Experience  Family Size  \n",
       "0     Healthcare                1            4  \n",
       "1       Engineer                3            3  \n",
       "2       Engineer                1            1  \n",
       "3         Lawyer                0            2  \n",
       "4  Entertainment                2            6  "
      ]
     },
     "execution_count": 46,
     "metadata": {},
     "output_type": "execute_result"
    }
   ],
   "source": [
    "import pandas as pd\n",
    "import numpy as np\n",
    "import matplotlib.pylab as plt\n",
    "import seaborn as sns\n",
    "import scipy.stats as stats\n",
    "\n",
    "plt.style.use('ggplot')\n",
    "pd.set_option('display.max_columns', 500)\n",
    "color_pal = plt.rcParams[\"axes.prop_cycle\"].by_key()['color']\n",
    "\n",
    "df = pd.read_csv('Customers.csv', delimiter = ',')\n",
    "\n",
    "df.head()"
   ]
  },
  {
   "cell_type": "code",
   "execution_count": 47,
   "id": "f98b570b",
   "metadata": {},
   "outputs": [],
   "source": [
    "# It will be useful to remove spaces from all collumn names\n",
    "\n",
    "df = df.rename(columns = {'Annual Income ($)':'Income'})\n",
    "df = df.rename(columns = {'Spending Score (1-100)':'Score'})\n",
    "df = df.rename(columns = {'Work Experience':'Work_experience'})\n",
    "df = df.rename(columns = {'Family Size':'Family_size'})\n",
    "\n"
   ]
  },
  {
   "cell_type": "code",
   "execution_count": 48,
   "id": "4a0e8d97",
   "metadata": {},
   "outputs": [
    {
     "data": {
      "text/plain": [
       "CustomerID          int64\n",
       "Gender             object\n",
       "Age                 int64\n",
       "Income              int64\n",
       "Score               int64\n",
       "Profession         object\n",
       "Work_experience     int64\n",
       "Family_size         int64\n",
       "dtype: object"
      ]
     },
     "execution_count": 48,
     "metadata": {},
     "output_type": "execute_result"
    }
   ],
   "source": [
    "# Checking if all data types are suit our purposes\n",
    "\n",
    "df.dtypes"
   ]
  },
  {
   "cell_type": "code",
   "execution_count": 49,
   "id": "673bea69",
   "metadata": {},
   "outputs": [
    {
     "data": {
      "text/plain": [
       "CustomerID          0\n",
       "Gender              0\n",
       "Age                 0\n",
       "Income              0\n",
       "Score               0\n",
       "Profession         35\n",
       "Work_experience     0\n",
       "Family_size         0\n",
       "dtype: int64"
      ]
     },
     "execution_count": 49,
     "metadata": {},
     "output_type": "execute_result"
    }
   ],
   "source": [
    "# Checking, if there is null values in dataset. There are 35 cells in Professon section\n",
    "\n",
    "\n",
    "\n",
    "df.isnull().sum()"
   ]
  },
  {
   "cell_type": "code",
   "execution_count": 50,
   "id": "762bbc6d",
   "metadata": {},
   "outputs": [
    {
     "data": {
      "text/html": [
       "<div>\n",
       "<style scoped>\n",
       "    .dataframe tbody tr th:only-of-type {\n",
       "        vertical-align: middle;\n",
       "    }\n",
       "\n",
       "    .dataframe tbody tr th {\n",
       "        vertical-align: top;\n",
       "    }\n",
       "\n",
       "    .dataframe thead th {\n",
       "        text-align: right;\n",
       "    }\n",
       "</style>\n",
       "<table border=\"1\" class=\"dataframe\">\n",
       "  <thead>\n",
       "    <tr style=\"text-align: right;\">\n",
       "      <th></th>\n",
       "      <th>Gender</th>\n",
       "      <th>Age</th>\n",
       "      <th>Income</th>\n",
       "      <th>Score</th>\n",
       "      <th>Profession</th>\n",
       "      <th>Work_experience</th>\n",
       "      <th>Family_size</th>\n",
       "    </tr>\n",
       "    <tr>\n",
       "      <th>CustomerID</th>\n",
       "      <th></th>\n",
       "      <th></th>\n",
       "      <th></th>\n",
       "      <th></th>\n",
       "      <th></th>\n",
       "      <th></th>\n",
       "      <th></th>\n",
       "    </tr>\n",
       "  </thead>\n",
       "  <tbody>\n",
       "    <tr>\n",
       "      <th>1</th>\n",
       "      <td>Male</td>\n",
       "      <td>19</td>\n",
       "      <td>15000</td>\n",
       "      <td>39</td>\n",
       "      <td>Healthcare</td>\n",
       "      <td>1</td>\n",
       "      <td>4</td>\n",
       "    </tr>\n",
       "    <tr>\n",
       "      <th>2</th>\n",
       "      <td>Male</td>\n",
       "      <td>21</td>\n",
       "      <td>35000</td>\n",
       "      <td>81</td>\n",
       "      <td>Engineer</td>\n",
       "      <td>3</td>\n",
       "      <td>3</td>\n",
       "    </tr>\n",
       "    <tr>\n",
       "      <th>3</th>\n",
       "      <td>Female</td>\n",
       "      <td>20</td>\n",
       "      <td>86000</td>\n",
       "      <td>6</td>\n",
       "      <td>Engineer</td>\n",
       "      <td>1</td>\n",
       "      <td>1</td>\n",
       "    </tr>\n",
       "    <tr>\n",
       "      <th>4</th>\n",
       "      <td>Female</td>\n",
       "      <td>23</td>\n",
       "      <td>59000</td>\n",
       "      <td>77</td>\n",
       "      <td>Lawyer</td>\n",
       "      <td>0</td>\n",
       "      <td>2</td>\n",
       "    </tr>\n",
       "    <tr>\n",
       "      <th>5</th>\n",
       "      <td>Female</td>\n",
       "      <td>31</td>\n",
       "      <td>38000</td>\n",
       "      <td>40</td>\n",
       "      <td>Entertainment</td>\n",
       "      <td>2</td>\n",
       "      <td>6</td>\n",
       "    </tr>\n",
       "  </tbody>\n",
       "</table>\n",
       "</div>"
      ],
      "text/plain": [
       "            Gender  Age  Income  Score     Profession  Work_experience   \n",
       "CustomerID                                                               \n",
       "1             Male   19   15000     39     Healthcare                1  \\\n",
       "2             Male   21   35000     81       Engineer                3   \n",
       "3           Female   20   86000      6       Engineer                1   \n",
       "4           Female   23   59000     77         Lawyer                0   \n",
       "5           Female   31   38000     40  Entertainment                2   \n",
       "\n",
       "            Family_size  \n",
       "CustomerID               \n",
       "1                     4  \n",
       "2                     3  \n",
       "3                     1  \n",
       "4                     2  \n",
       "5                     6  "
      ]
     },
     "execution_count": 50,
     "metadata": {},
     "output_type": "execute_result"
    }
   ],
   "source": [
    "# I filled null cells with unemployed.\n",
    "\n",
    "df = df.fillna('Unemployed')\n"
   ]
  },
  {
   "cell_type": "code",
   "execution_count": null,
   "id": "d6e60333",
   "metadata": {},
   "outputs": [],
   "source": [
    "# i putted an index as Customer Id\n",
    "\n",
    "df = df.set_index('CustomerID', inplace=False)\n",
    "\n",
    "df.head()"
   ]
  },
  {
   "cell_type": "code",
   "execution_count": 51,
   "id": "f75f8385",
   "metadata": {},
   "outputs": [
    {
     "data": {
      "text/html": [
       "<div>\n",
       "<style scoped>\n",
       "    .dataframe tbody tr th:only-of-type {\n",
       "        vertical-align: middle;\n",
       "    }\n",
       "\n",
       "    .dataframe tbody tr th {\n",
       "        vertical-align: top;\n",
       "    }\n",
       "\n",
       "    .dataframe thead th {\n",
       "        text-align: right;\n",
       "    }\n",
       "</style>\n",
       "<table border=\"1\" class=\"dataframe\">\n",
       "  <thead>\n",
       "    <tr style=\"text-align: right;\">\n",
       "      <th></th>\n",
       "      <th>Gender</th>\n",
       "      <th>Age</th>\n",
       "      <th>Income</th>\n",
       "      <th>Score</th>\n",
       "      <th>Profession</th>\n",
       "      <th>Work_experience</th>\n",
       "      <th>Family_size</th>\n",
       "    </tr>\n",
       "    <tr>\n",
       "      <th>CustomerID</th>\n",
       "      <th></th>\n",
       "      <th></th>\n",
       "      <th></th>\n",
       "      <th></th>\n",
       "      <th></th>\n",
       "      <th></th>\n",
       "      <th></th>\n",
       "    </tr>\n",
       "  </thead>\n",
       "  <tbody>\n",
       "    <tr>\n",
       "      <th>1</th>\n",
       "      <td>Male</td>\n",
       "      <td>19</td>\n",
       "      <td>15000</td>\n",
       "      <td>39</td>\n",
       "      <td>Healthcare</td>\n",
       "      <td>1</td>\n",
       "      <td>4</td>\n",
       "    </tr>\n",
       "    <tr>\n",
       "      <th>2</th>\n",
       "      <td>Male</td>\n",
       "      <td>21</td>\n",
       "      <td>35000</td>\n",
       "      <td>81</td>\n",
       "      <td>Engineer</td>\n",
       "      <td>3</td>\n",
       "      <td>3</td>\n",
       "    </tr>\n",
       "    <tr>\n",
       "      <th>3</th>\n",
       "      <td>Female</td>\n",
       "      <td>20</td>\n",
       "      <td>86000</td>\n",
       "      <td>6</td>\n",
       "      <td>Engineer</td>\n",
       "      <td>1</td>\n",
       "      <td>1</td>\n",
       "    </tr>\n",
       "    <tr>\n",
       "      <th>4</th>\n",
       "      <td>Female</td>\n",
       "      <td>23</td>\n",
       "      <td>59000</td>\n",
       "      <td>77</td>\n",
       "      <td>Lawyer</td>\n",
       "      <td>0</td>\n",
       "      <td>2</td>\n",
       "    </tr>\n",
       "    <tr>\n",
       "      <th>5</th>\n",
       "      <td>Female</td>\n",
       "      <td>31</td>\n",
       "      <td>38000</td>\n",
       "      <td>40</td>\n",
       "      <td>Entertainment</td>\n",
       "      <td>2</td>\n",
       "      <td>6</td>\n",
       "    </tr>\n",
       "    <tr>\n",
       "      <th>...</th>\n",
       "      <td>...</td>\n",
       "      <td>...</td>\n",
       "      <td>...</td>\n",
       "      <td>...</td>\n",
       "      <td>...</td>\n",
       "      <td>...</td>\n",
       "      <td>...</td>\n",
       "    </tr>\n",
       "    <tr>\n",
       "      <th>1996</th>\n",
       "      <td>Female</td>\n",
       "      <td>71</td>\n",
       "      <td>184387</td>\n",
       "      <td>40</td>\n",
       "      <td>Artist</td>\n",
       "      <td>8</td>\n",
       "      <td>7</td>\n",
       "    </tr>\n",
       "    <tr>\n",
       "      <th>1997</th>\n",
       "      <td>Female</td>\n",
       "      <td>91</td>\n",
       "      <td>73158</td>\n",
       "      <td>32</td>\n",
       "      <td>Doctor</td>\n",
       "      <td>7</td>\n",
       "      <td>7</td>\n",
       "    </tr>\n",
       "    <tr>\n",
       "      <th>1998</th>\n",
       "      <td>Male</td>\n",
       "      <td>87</td>\n",
       "      <td>90961</td>\n",
       "      <td>14</td>\n",
       "      <td>Healthcare</td>\n",
       "      <td>9</td>\n",
       "      <td>2</td>\n",
       "    </tr>\n",
       "    <tr>\n",
       "      <th>1999</th>\n",
       "      <td>Male</td>\n",
       "      <td>77</td>\n",
       "      <td>182109</td>\n",
       "      <td>4</td>\n",
       "      <td>Executive</td>\n",
       "      <td>7</td>\n",
       "      <td>2</td>\n",
       "    </tr>\n",
       "    <tr>\n",
       "      <th>2000</th>\n",
       "      <td>Male</td>\n",
       "      <td>90</td>\n",
       "      <td>110610</td>\n",
       "      <td>52</td>\n",
       "      <td>Entertainment</td>\n",
       "      <td>5</td>\n",
       "      <td>2</td>\n",
       "    </tr>\n",
       "  </tbody>\n",
       "</table>\n",
       "<p>2000 rows × 7 columns</p>\n",
       "</div>"
      ],
      "text/plain": [
       "            Gender  Age  Income  Score     Profession  Work_experience   \n",
       "CustomerID                                                               \n",
       "1             Male   19   15000     39     Healthcare                1  \\\n",
       "2             Male   21   35000     81       Engineer                3   \n",
       "3           Female   20   86000      6       Engineer                1   \n",
       "4           Female   23   59000     77         Lawyer                0   \n",
       "5           Female   31   38000     40  Entertainment                2   \n",
       "...            ...  ...     ...    ...            ...              ...   \n",
       "1996        Female   71  184387     40         Artist                8   \n",
       "1997        Female   91   73158     32         Doctor                7   \n",
       "1998          Male   87   90961     14     Healthcare                9   \n",
       "1999          Male   77  182109      4      Executive                7   \n",
       "2000          Male   90  110610     52  Entertainment                5   \n",
       "\n",
       "            Family_size  \n",
       "CustomerID               \n",
       "1                     4  \n",
       "2                     3  \n",
       "3                     1  \n",
       "4                     2  \n",
       "5                     6  \n",
       "...                 ...  \n",
       "1996                  7  \n",
       "1997                  7  \n",
       "1998                  2  \n",
       "1999                  2  \n",
       "2000                  2  \n",
       "\n",
       "[2000 rows x 7 columns]"
      ]
     },
     "execution_count": 51,
     "metadata": {},
     "output_type": "execute_result"
    }
   ],
   "source": [
    "df"
   ]
  },
  {
   "cell_type": "code",
   "execution_count": 52,
   "id": "81c4189c",
   "metadata": {},
   "outputs": [
    {
     "data": {
      "image/png": "[encoded data removed]",
      "text/plain": [
       "<Figure size 640x480 with 1 Axes>"
      ]
     },
     "metadata": {},
     "output_type": "display_data"
    }
   ],
   "source": [
    "# Q1: How does the gender distribution of our customer base affect their spending score?\n",
    "\n",
    "gender_spending = df.groupby('Gender')['Score'].mean()\n",
    "\n",
    "gender_spending.plot(kind='bar', xlabel='Gender', ylabel='Score')\n",
    "plt.title('Gender Distribution vs. Average Spending Score')\n",
    "plt.show()\n",
    "\n",
    "# As we see from the graph, there is no big difference between Gender and Spending Score"
   ]
  },
  {
   "cell_type": "code",
   "execution_count": 53,
   "id": "a229b0a3",
   "metadata": {},
   "outputs": [
    {
     "name": "stdout",
     "output_type": "stream",
     "text": [
      "Correlation coefficient between age and annual income: 0.02137756590311846\n"
     ]
    }
   ],
   "source": [
    "# Q2: Is there a correlation between age and annual income of our customers?\n",
    "\n",
    "correlation = df['Age'].corr(df['Income'])\n",
    "\n",
    "print(\"Correlation coefficient between age and annual income:\", correlation)\n",
    "\n",
    "# There is very low correlation between age and income."
   ]
  },
  {
   "cell_type": "code",
   "execution_count": 54,
   "id": "00289e00",
   "metadata": {},
   "outputs": [
    {
     "name": "stdout",
     "output_type": "stream",
     "text": [
      "Profession with the highest average spending score: Entertainment\n",
      "Average spending score: 52.94017094017094\n"
     ]
    }
   ],
   "source": [
    "# Q3: Which profession has the highest average spending score among our customers?\n",
    "\n",
    "average_spending = df.groupby('Profession')['Score'].mean()\n",
    "highest_spending_profession = average_spending.idxmax()\n",
    "highest_average_spending = average_spending.max()\n",
    "print(\"Profession with the highest average spending score:\", highest_spending_profession)\n",
    "print(\"Average spending score:\", highest_average_spending)"
   ]
  },
  {
   "cell_type": "code",
   "execution_count": 55,
   "id": "1eb53c08",
   "metadata": {},
   "outputs": [
    {
     "name": "stdout",
     "output_type": "stream",
     "text": [
      "Correlation coefficient between work experience and annual income: 0.08913636838729588\n"
     ]
    },
    {
     "data": {
      "image/png": "[encoded data removed]",
      "text/plain": [
       "<Figure size 640x480 with 1 Axes>"
      ]
     },
     "metadata": {},
     "output_type": "display_data"
    }
   ],
   "source": [
    "# Q4: 4. Is there a relationship between work experience and annual income of our customers?\n",
    "\n",
    "correlation = df['Work_experience'].corr(df['Income'])\n",
    "print(\"Correlation coefficient between work experience and annual income:\", correlation)\n",
    "\n",
    "plt.scatter(df['Work_experience'], df['Income'])\n",
    "plt.xlabel('Work Experience (years)')\n",
    "plt.ylabel('Annual Income')\n",
    "plt.title('Work Experience vs. Annual Income')\n",
    "plt.show()\n",
    "\n",
    "# Low correlation between Work  Experience and Income"
   ]
  },
  {
   "cell_type": "code",
   "execution_count": 56,
   "id": "1041925c",
   "metadata": {},
   "outputs": [
    {
     "data": {
      "image/png": "[encoded data removed]",
      "text/plain": [
       "<Figure size 640x480 with 1 Axes>"
      ]
     },
     "metadata": {},
     "output_type": "display_data"
    }
   ],
   "source": [
    "# Q5: How does family size influence the annual income of our customers?\n",
    "\n",
    "average_income = df.groupby('Family_size')['Income'].mean()\n",
    "\n",
    "average_income.plot(kind='bar', xlabel='Family Size', ylabel='Average Annual Income')\n",
    "plt.title('Family Size vs. Average Annual Income')\n",
    "plt.show()\n",
    "\n",
    "# As we see that there is not big coverage until 8th member, so people with 8 and 9 family size are earning less in average"
   ]
  },
  {
   "cell_type": "code",
   "execution_count": 57,
   "id": "20682274",
   "metadata": {},
   "outputs": [
    {
     "name": "stdout",
     "output_type": "stream",
     "text": [
      "ANOVA p-value: 0.7218983494363371\n"
     ]
    }
   ],
   "source": [
    "# Q6: Are there any significant differences in the spending score based on the gender and age of our customers?\n",
    "\n",
    "grouped_data = df.groupby(['Gender', 'Age'])['Score'].mean()\n",
    "\n",
    "anova_results = stats.f_oneway(*[grouped_data[grouped_data.index.get_level_values('Gender') == gender] for gender in df['Gender'].unique()])\n",
    "\n",
    "print(\"ANOVA p-value:\", anova_results.pvalue)\n",
    "\n",
    "# 0.7 is strong variable to not reject the hypothesis , that there are no diffences between score, age and gender"
   ]
  },
  {
   "cell_type": "code",
   "execution_count": null,
   "id": "39075d5e",
   "metadata": {},
   "outputs": [],
   "source": []
  },
  {
   "cell_type": "code",
   "execution_count": null,
   "id": "c79159db",
   "metadata": {},
   "outputs": [],
   "source": []
  }
 ],
 "metadata": {
  "kernelspec": {
   "display_name": "Python 3 (ipykernel)",
   "language": "python",
   "name": "python3"
  },
  "language_info": {
   "codemirror_mode": {
    "name": "ipython",
    "version": 3
   },
   "file_extension": ".py",
   "mimetype": "text/x-python",
   "name": "python",
   "nbconvert_exporter": "python",
   "pygments_lexer": "ipython3",
   "version": "3.11.1"
  }
 },
 "nbformat": 4,
 "nbformat_minor": 5
}
